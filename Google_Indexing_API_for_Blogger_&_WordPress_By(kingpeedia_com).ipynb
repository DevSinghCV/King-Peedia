{
  "nbformat": 4,
  "nbformat_minor": 0,
  "metadata": {
    "colab": {
      "provenance": [],
      "collapsed_sections": [
        "nIZIUeangBwf",
        "FDF-corPgScM",
        "5JY6UhtNflnl"
      ],
      "include_colab_link": true
    },
    "kernelspec": {
      "name": "python3",
      "display_name": "Python 3"
    },
    "language_info": {
      "name": "python"
    }
  },
  "cells": [
    {
      "cell_type": "markdown",
      "metadata": {
        "id": "view-in-github",
        "colab_type": "text"
      },
      "source": [
        "<a href=\"https://colab.research.google.com/github/devendrasinghsite/King-Peedia/blob/main/Google_Indexing_API_for_Blogger_%26_WordPress_By(kingpeedia_com).ipynb\" target=\"_parent\"><img src=\"https://colab.research.google.com/assets/colab-badge.svg\" alt=\"Open In Colab\"/></a>"
      ]
    },
    {
      "cell_type": "markdown",
      "source": [
        "Hello User\n",
        "\n",
        "```\n",
        "`# This is formatted as code`\n",
        "```\n",
        "\n",
        "!\n",
        "\n",
        "I'm **King Peedia** and I have created this **Blogger/WordPress Google Indexing API Console** for Fast indexing of your **Blogger** website/blog post and pages.\n",
        "\n",
        "**Created by [King Peedia](https://www.kingpeedia.com)**\n"
      ],
      "metadata": {
        "id": "ifN9HTb1fXcg"
      }
    },
    {
      "cell_type": "markdown",
      "source": [
        "## **Step 1:** Connect to Your Google Drive"
      ],
      "metadata": {
        "id": "nIZIUeangBwf"
      }
    },
    {
      "cell_type": "code",
      "execution_count": 4,
      "metadata": {
        "colab": {
          "base_uri": "https://localhost:8080/"
        },
        "id": "px5R_uL1fMV3",
        "outputId": "8c60e71e-9e27-44c1-a3c6-f4a58b914368"
      },
      "outputs": [
        {
          "output_type": "stream",
          "name": "stdout",
          "text": [
            "Drive already mounted at /content/drive; to attempt to forcibly remount, call drive.mount(\"/content/drive\", force_remount=True).\n",
            "Successfully Connected!\n"
          ]
        }
      ],
      "source": [
        "#@title **Connect Your Google Drive**\n",
        "#@markdown **To use this method, you have to connect your Google Drive everytime you Refresh/Disconnect/Reset this notebook in order to use the files saved in your drive but no need to re-upload the file again**\n",
        "\n",
        "#@markdown **Provide Yes > Execute the cell**\n",
        "Connect_Google_Drive = \"Yes\" #@param [\"Yes\", \"No\"]\n",
        "if Connect_Google_Drive == \"Yes\":\n",
        "  from google.colab import drive\n",
        "  drive.mount('/content/drive')\n",
        "  print(\"Successfully Connected!\")\n",
        "else:\n",
        "  print(\"Not Connected!\")"
      ]
    },
    {
      "cell_type": "markdown",
      "source": [
        "## **Step 2:** Replace your Google Drive Path"
      ],
      "metadata": {
        "id": "FDF-corPgScM"
      }
    },
    {
      "cell_type": "code",
      "source": [
        "#@title **Replace your Google Drive Path**\n",
        "API_Path = \"/content/drive/MyDrive/king-peedia-e13268ed0a27.json\" #@param {type:\"string\"}\n",
        "\n",
        "from oauth2client.service_account import ServiceAccountCredentials\n",
        "import httplib2\n",
        "\n",
        "SCOPES = [\"https://www.googleapis.com/auth/indexing\"]\n",
        "ENDPOINT = \"https://indexing.googleapis.com/v3/urlNotifications:publish\"\n",
        "print('*'*50);print(\"Scopes & Endpoint Configured...\");print('*'*50);print(\"Adding Key...\");print('*'*50);\n",
        "# service_account_file.json is the private key that you created for your service account.\n",
        "JSON_KEY_FILE = API_Path\n",
        "print(\"Key Added Successfully!\");print('*'*50);\n",
        "credentials = ServiceAccountCredentials.from_json_keyfile_name(JSON_KEY_FILE, scopes=SCOPES)\n",
        "http = credentials.authorize(httplib2.Http())\n",
        "print(\"Credentials Successfully Authorized!\");print('*'*50);"
      ],
      "metadata": {
        "id": "G48nTJcggajz",
        "colab": {
          "base_uri": "https://localhost:8080/"
        },
        "outputId": "3fd35b07-ad68-4f7b-b7d6-654d1ce558a8"
      },
      "execution_count": 5,
      "outputs": [
        {
          "output_type": "stream",
          "name": "stdout",
          "text": [
            "**************************************************\n",
            "Scopes & Endpoint Configured...\n",
            "**************************************************\n",
            "Adding Key...\n",
            "**************************************************\n",
            "Key Added Successfully!\n",
            "**************************************************\n",
            "Credentials Successfully Authorized!\n",
            "**************************************************\n"
          ]
        }
      ]
    },
    {
      "cell_type": "markdown",
      "source": [
        "## **Step 3:** Replace Your Post/Page URL and Run the Code"
      ],
      "metadata": {
        "id": "5JY6UhtNflnl"
      }
    },
    {
      "cell_type": "code",
      "source": [
        "#@title **Replace Your Post/Page URL and Run the Code**\n",
        "#@markdown Site URL will the exact URL you want to update or delete from the Google Search Index. **Also, please make a note that you have to provide URL only for the ownership verfied website. For any other URLs, it will not work.**\n",
        "siteURL = \"https://www.kingpeedia.com/\" #@param {type:\"string\"}\n",
        "requestType = \"URL_UPDATED\" #@param [\"URL_UPDATED\", \"URL_DELETED\"]\n",
        "content = str({'url':siteURL,'type':requestType})\n",
        "print(\"RESULT:\");print('*'*50);print(\"URL and Update Request Type Configured!\");print('*'*50);\n",
        "\n",
        "response, content = http.request(ENDPOINT, method=\"POST\", body=content)\n",
        "output = response['status']\n",
        "\n",
        "if output == '200':\n",
        "  print(\"Successfully Done!\");print('*'*50);\n",
        "\n",
        "else:\n",
        "  print(\"Error Code: {}\".format(output));print('*'*50);\n",
        "  print(\"Visit Here For More: https://developers.google.com/search/apis/indexing-api/v3/core-errors#api-errors\");\n",
        "  print('*'*50);"
      ],
      "metadata": {
        "id": "c4jMf8APhrhv",
        "colab": {
          "base_uri": "https://localhost:8080/"
        },
        "outputId": "5f4219c4-1155-4c0f-c2ae-597ea27224e6"
      },
      "execution_count": 6,
      "outputs": [
        {
          "output_type": "stream",
          "name": "stdout",
          "text": [
            "RESULT:\n",
            "**************************************************\n",
            "URL and Update Request Type Configured!\n",
            "**************************************************\n",
            "Successfully Done!\n",
            "**************************************************\n"
          ]
        }
      ]
    }
  ]
}